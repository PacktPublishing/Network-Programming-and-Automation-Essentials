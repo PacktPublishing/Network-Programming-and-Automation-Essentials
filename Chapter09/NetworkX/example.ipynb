{
 "cells": [
  {
   "cell_type": "code",
   "execution_count": 55,
   "id": "84f4be71",
   "metadata": {},
   "outputs": [],
   "source": [
    "import networkx as nx\n",
    "import yaml\n",
    "\n",
    "G = nx.Graph()\n",
    "devices = {}\n",
    "\n",
    "def build_all():\n",
    "    with open('topology.yaml', 'r') as file:\n",
    "        yfile = yaml.safe_load(file)\n",
    "\n",
    "    for i, x in enumerate(yfile['devices']):\n",
    "        devices[x]=i\n",
    "        G.add_node(i, name=x)\n",
    "    for link in yfile['links']:\n",
    "        G.add_edge(devices[link[0]], devices[link[1]])\n"
   ]
  },
  {
   "cell_type": "code",
   "execution_count": 56,
   "id": "dfab6564",
   "metadata": {},
   "outputs": [],
   "source": [
    "build_all()"
   ]
  },
  {
   "cell_type": "code",
   "execution_count": 57,
   "id": "90c36f71",
   "metadata": {},
   "outputs": [
    {
     "name": "stdout",
     "output_type": "stream",
     "text": [
      "[0, 1, 2, 3, 4, 5, 6, 7, 8, 9, 10, 11, 12]\n"
     ]
    }
   ],
   "source": [
    "print(G.nodes)"
   ]
  },
  {
   "cell_type": "code",
   "execution_count": 58,
   "id": "e42f041a",
   "metadata": {},
   "outputs": [
    {
     "name": "stdout",
     "output_type": "stream",
     "text": [
      "[(0, 1), (1, 2), (2, 3), (2, 4), (2, 5), (3, 6), (3, 7), (4, 6), (4, 7), (5, 6), (5, 7), (6, 8), (6, 9), (6, 10), (7, 8), (7, 9), (7, 10), (8, 11), (9, 11), (10, 11), (11, 12)]\n"
     ]
    }
   ],
   "source": [
    "print(G.edges)"
   ]
  },
  {
   "cell_type": "code",
   "execution_count": 59,
   "id": "846b915f",
   "metadata": {},
   "outputs": [
    {
     "data": {
      "text/plain": [
       "1"
      ]
     },
     "execution_count": 59,
     "metadata": {},
     "output_type": "execute_result"
    }
   ],
   "source": [
    "nx.node_connectivity(G, devices[\"pc-a\"], devices[\"internet\"])"
   ]
  },
  {
   "cell_type": "code",
   "execution_count": 60,
   "id": "cca45df6",
   "metadata": {},
   "outputs": [],
   "source": [
    "G.remove_edge(1,2)"
   ]
  },
  {
   "cell_type": "code",
   "execution_count": 61,
   "id": "10057e2a",
   "metadata": {},
   "outputs": [
    {
     "data": {
      "text/plain": [
       "0"
      ]
     },
     "execution_count": 61,
     "metadata": {},
     "output_type": "execute_result"
    }
   ],
   "source": [
    "nx.node_connectivity(G, devices[\"pc-a\"], devices[\"internet\"])"
   ]
  },
  {
   "cell_type": "code",
   "execution_count": 62,
   "id": "4a96532c",
   "metadata": {},
   "outputs": [],
   "source": [
    "G.add_edge(1,2)"
   ]
  },
  {
   "cell_type": "code",
   "execution_count": 63,
   "id": "0b6c71ee",
   "metadata": {},
   "outputs": [
    {
     "data": {
      "text/plain": [
       "1"
      ]
     },
     "execution_count": 63,
     "metadata": {},
     "output_type": "execute_result"
    }
   ],
   "source": [
    "nx.node_connectivity(G, devices[\"pc-a\"], devices[\"internet\"])"
   ]
  },
  {
   "cell_type": "code",
   "execution_count": 64,
   "id": "7d3c6956",
   "metadata": {},
   "outputs": [],
   "source": [
    "G.remove_node(devices[\"core-a2\"])"
   ]
  },
  {
   "cell_type": "code",
   "execution_count": 65,
   "id": "8cf0d08f",
   "metadata": {},
   "outputs": [
    {
     "data": {
      "text/plain": [
       "1"
      ]
     },
     "execution_count": 65,
     "metadata": {},
     "output_type": "execute_result"
    }
   ],
   "source": [
    "nx.node_connectivity(G, devices[\"pc-a\"], devices[\"internet\"])"
   ]
  },
  {
   "cell_type": "code",
   "execution_count": 66,
   "id": "6d717310",
   "metadata": {},
   "outputs": [],
   "source": [
    "G.remove_node(devices[\"core-a1\"])"
   ]
  },
  {
   "cell_type": "code",
   "execution_count": 67,
   "id": "8afb549e",
   "metadata": {},
   "outputs": [
    {
     "data": {
      "text/plain": [
       "1"
      ]
     },
     "execution_count": 67,
     "metadata": {},
     "output_type": "execute_result"
    }
   ],
   "source": [
    "nx.node_connectivity(G, devices[\"pc-a\"], devices[\"internet\"])"
   ]
  },
  {
   "cell_type": "code",
   "execution_count": 68,
   "id": "d62b462f",
   "metadata": {},
   "outputs": [],
   "source": [
    "G.remove_node(devices[\"core-a3\"])"
   ]
  },
  {
   "cell_type": "code",
   "execution_count": 69,
   "id": "66825927",
   "metadata": {},
   "outputs": [
    {
     "data": {
      "text/plain": [
       "0"
      ]
     },
     "execution_count": 69,
     "metadata": {},
     "output_type": "execute_result"
    }
   ],
   "source": [
    "nx.node_connectivity(G, devices[\"pc-a\"], devices[\"internet\"])"
   ]
  },
  {
   "cell_type": "code",
   "execution_count": null,
   "id": "e66ff455",
   "metadata": {},
   "outputs": [],
   "source": []
  }
 ],
 "metadata": {
  "kernelspec": {
   "display_name": "Python 3 (ipykernel)",
   "language": "python",
   "name": "python3"
  },
  "language_info": {
   "codemirror_mode": {
    "name": "ipython",
    "version": 3
   },
   "file_extension": ".py",
   "mimetype": "text/x-python",
   "name": "python",
   "nbconvert_exporter": "python",
   "pygments_lexer": "ipython3",
   "version": "3.10.9"
  }
 },
 "nbformat": 4,
 "nbformat_minor": 5
}
